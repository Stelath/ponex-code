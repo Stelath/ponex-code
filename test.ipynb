{
 "cells": [
  {
   "cell_type": "code",
   "execution_count": 18,
   "metadata": {},
   "outputs": [
    {
     "data": {
      "text/plain": [
       "(0.0, 32.0, 32.0, 0.0)"
      ]
     },
     "execution_count": 18,
     "metadata": {},
     "output_type": "execute_result"
    },
    {
     "data": {
      "image/png": "[encoded data removed]",
      "text/plain": [
       "<Figure size 432x288 with 2 Axes>"
      ]
     },
     "metadata": {
      "needs_background": "light"
     },
     "output_type": "display_data"
    }
   ],
   "source": [
    "import numpy as np\n",
    "import seaborn as sns\n",
    "import matplotlib.pyplot as plt\n",
    "data = np.random.rand(32, 32)\n",
    "heatmap = sns.heatmap( data, square=True, vmin=0, vmax=1 )\n",
    "heatmap.axis('off')\n"
   ]
  },
  {
   "cell_type": "code",
   "execution_count": 25,
   "metadata": {},
   "outputs": [
    {
     "name": "stdout",
     "output_type": "stream",
     "text": [
      "SM160d64934f264764a33d70fc902b8fa2\n"
     ]
    }
   ],
   "source": [
    "import os\n",
    "from twilio.rest import Client\n",
    "\n",
    "\n",
    "# Find your Account SID and Auth Token at twilio.com/console\n",
    "# and set the environment variables. See http://twil.io/secure\n",
    "with open('keys.csv') as file:\n",
    "    content = file.readlines()\n",
    "    account_sid = content[0]\n",
    "    auth_token = content[1]\n",
    "client = Client(account_sid, auth_token)\n",
    "\n",
    "message = client.messages \\\n",
    "                .create(\n",
    "                     body=\"Alert your house is burning down, click here to watch\",\n",
    "                     from_='+18644005538',\n",
    "                     to='+12102130107'\n",
    "                 )\n",
    "                \n",
    "print(message.sid)"
   ]
  }
 ],
 "metadata": {
  "interpreter": {
   "hash": "d3b0a36e93554bb387285bd85536dd978722f1d73057046009efd1c3156a5af6"
  },
  "kernelspec": {
   "display_name": "Python 3.8.10 ('venv': venv)",
   "language": "python",
   "name": "python3"
  },
  "language_info": {
   "codemirror_mode": {
    "name": "ipython",
    "version": 3
   },
   "file_extension": ".py",
   "mimetype": "text/x-python",
   "name": "python",
   "nbconvert_exporter": "python",
   "pygments_lexer": "ipython3",
   "version": "3.8.10"
  },
  "orig_nbformat": 4
 },
 "nbformat": 4,
 "nbformat_minor": 2
}
